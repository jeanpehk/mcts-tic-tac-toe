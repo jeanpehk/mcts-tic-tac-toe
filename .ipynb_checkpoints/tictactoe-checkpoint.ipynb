{
 "cells": [
  {
   "cell_type": "code",
   "execution_count": 4,
   "id": "bf3e26c5",
   "metadata": {},
   "outputs": [],
   "source": [
    "# can we learn tic tac toe from scratch?\n",
    "\n",
    "import numpy as np"
   ]
  },
  {
   "cell_type": "code",
   "execution_count": 41,
   "id": "7ac324cc",
   "metadata": {},
   "outputs": [
    {
     "name": "stdout",
     "output_type": "stream",
     "text": [
      "move: 1\n",
      "move: 2\n",
      "move: 0\n",
      "winner 1.0\n",
      "[0. 0. 0. 0. 0. 0. 0. 0. 0.]\n"
     ]
    }
   ],
   "source": [
    "def check(state):\n",
    "    # rows\n",
    "    if state[0] == state[1] == state[2] and state[0] != 0:\n",
    "        return state[0]\n",
    "    if state[3] == state[4] == state[5] and state[3] != 0:\n",
    "        return state[3]\n",
    "    if state[6] == state[7] == state[8] and state[6] != 0:\n",
    "        return state[6]\n",
    "    \n",
    "    # cols\n",
    "    if state[0] == state[3] == state[6] and state[0] != 0:\n",
    "        return state[0]\n",
    "    if state[1] == state[4] == state[7] and state[1] != 0:\n",
    "        return state[1]\n",
    "    if state[2] == state[5] == state[8] and state[2] != 0:\n",
    "        return state[2]\n",
    "    \n",
    "    # cross\n",
    "    if state[0] == state[4] == state[8] and state[0] != 0:\n",
    "        return state[0]\n",
    "    if state[6] == state[4] == state[2] and state[6] != 0:\n",
    "        return state[6]\n",
    "    \n",
    "    return None\n",
    "\n",
    "def go():\n",
    "    pass\n",
    "\n",
    "states = np.array(())\n",
    "state = np.zeros((9,))\n",
    "\n",
    "winner = None\n",
    "# me 1 machine 2\n",
    "while winner is None:\n",
    "    mv = input('move: ')\n",
    "    state[int(mv)] = 1\n",
    "    winner = check(state)\n",
    "    go()\n",
    "\n",
    "print('winner: %s' % winner)\n",
    "print(state)\n",
    " "
   ]
  }
 ],
 "metadata": {
  "kernelspec": {
   "display_name": "Python 3 (ipykernel)",
   "language": "python",
   "name": "python3"
  },
  "language_info": {
   "codemirror_mode": {
    "name": "ipython",
    "version": 3
   },
   "file_extension": ".py",
   "mimetype": "text/x-python",
   "name": "python",
   "nbconvert_exporter": "python",
   "pygments_lexer": "ipython3",
   "version": "3.8.10"
  }
 },
 "nbformat": 4,
 "nbformat_minor": 5
}
